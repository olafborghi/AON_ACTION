{
 "cells": [
  {
   "cell_type": "markdown",
   "id": "e7fd120c-7fe5-42e9-aba6-b958a0b9a14e",
   "metadata": {
    "tags": []
   },
   "source": [
    "# AON and ACTION Cluster Info\n",
    "\n",
    "Master Thesis: **Modulation of the Action Observation Network - Investigating Action, Actor and Observer Factors in an fMRI Study**\n",
    "\n",
    "Author: Olaf Borghi olafborghi@gmail.com"
   ]
  },
  {
   "cell_type": "markdown",
   "id": "c0901068-3312-4a37-9049-07559e3331ea",
   "metadata": {
    "tags": []
   },
   "source": [
    "## Prepare Setup\n",
    "\n",
    "### Define fixed parameters, load libraries/modules"
   ]
  },
  {
   "cell_type": "markdown",
   "id": "77c423d4-a903-42f0-9af3-7ee22320df2d",
   "metadata": {},
   "source": [
    "**Load modules**"
   ]
  },
  {
   "cell_type": "code",
   "execution_count": 15,
   "id": "69dc1512-e28a-4812-a1aa-b94c838a795a",
   "metadata": {},
   "outputs": [
    {
     "name": "stdout",
     "output_type": "stream",
     "text": [
      "0.9.2\n"
     ]
    }
   ],
   "source": [
    "# Import necessary packages and modules\n",
    "%matplotlib inline\n",
    "# libraries\n",
    "import os\n",
    "import numpy as np\n",
    "import nibabel as nib\n",
    "import pandas as pd\n",
    "import nilearn as nl\n",
    "from matplotlib import pyplot as plt\n",
    "# specific modules\n",
    "from nilearn import plotting, datasets, image\n",
    "from pathlib import Path\n",
    "from pprint import pprint\n",
    "from atlasreader import get_statmap_info, create_output\n",
    "print(nl.__version__) # print nilearn version"
   ]
  },
  {
   "cell_type": "markdown",
   "id": "caebecd1-90cb-40d2-ab56-cdcae5fe859e",
   "metadata": {},
   "source": [
    "**Set fixed parameters**"
   ]
  },
  {
   "cell_type": "code",
   "execution_count": 16,
   "id": "74461e1d-c977-4ec6-9f22-e2fde67ea29e",
   "metadata": {},
   "outputs": [],
   "source": [
    "# fixed folders\n",
    "basedir = Path(\"/home/olafb99/mnt/p/userdata/olafb99/shared/03_AON_ACTION\")\n",
    "outputdir = Path(basedir / \"derivatives\")\n",
    "datadir = Path(basedir / \"01_data\")\n",
    "second_level_dir = outputdir / \"second_level\"\n",
    "AON_second_level_dir = second_level_dir / \"AON-task\"\n",
    "action_second_level_dir = second_level_dir / \"action-task\"\n",
    "\n",
    "# make folder to store cluster info files\n",
    "if not os.path.exists(second_level_dir / \"cluster_info\"):\n",
    "    os.makedirs(second_level_dir / \"cluster_info\")\n",
    "cluster_info_dir = second_level_dir / \"cluster_info\"\n",
    "\n",
    "# load the MNI template\n",
    "template = datasets.load_mni152_template(resolution=1)"
   ]
  },
  {
   "cell_type": "markdown",
   "id": "b863aa4c-bb3b-4f60-aa13-cd90c798e25a",
   "metadata": {},
   "source": [
    "### Load thresholded statistical maps from second level model"
   ]
  },
  {
   "cell_type": "code",
   "execution_count": 17,
   "id": "f8946cfb-1c32-4817-8999-216783186148",
   "metadata": {},
   "outputs": [],
   "source": [
    "# AON\n",
    "aon_thresholded_map = AON_second_level_dir / \"AON-baseline_z_map_threshold.nii.gz\"\n",
    "aon_cluster_threshold = 314\n",
    "\n",
    "# Scrambled\n",
    "scrambled_thresholded_map = AON_second_level_dir / \"scrambled-baseline_z_map_threshold.nii.gz\"\n",
    "scrambled_cluster_threshold = 267\n",
    "\n",
    "# Ghost\n",
    "ghost_thresholded_map = AON_second_level_dir / \"ghost-baseline_z_map_threshold.nii.gz\"\n",
    "ghost_cluster_threshold = 262\n",
    "\n",
    "# transitive intransitive\n",
    "transitive_intransitive_thresholded_map = AON_second_level_dir / \"transitive-intransitive_z_map_threshold.nii.gz\"\n",
    "transitive_intransitive_cluster_threshold = 83\n",
    "\n",
    "# intransitive transitive\n",
    "intransitive_transitive_thresholded_map = AON_second_level_dir / \"intransitive-transitive_z_map_threshold.nii.gz\"\n",
    "intransitive_transitive_cluster_threshold = 83\n",
    "\n",
    "# human dog\n",
    "human_dog_thresholded_map = AON_second_level_dir / \"human-dog_z_map_threshold.nii.gz\"\n",
    "human_dog_cluster_threshold = 226\n",
    "\n",
    "# dog human\n",
    "dog_human_thresholded_map = AON_second_level_dir / \"dog-human_z_map_threshold.nii.gz\"\n",
    "dog_human_cluster_threshold = 226\n",
    "\n",
    "# action\n",
    "action_thresholded = action_second_level_dir / \"action-baseline_z_map_threshold.nii.gz\"\n",
    "action_cluster_threshold = 391"
   ]
  },
  {
   "cell_type": "markdown",
   "id": "c0ab0860-2b23-4e25-b677-0ec335ea2aeb",
   "metadata": {},
   "source": [
    "### Generate Atlas Reader Output\n",
    "\n",
    "Generate and locally store the output from AtlasReader.\n",
    "\n",
    "Documentation: https://github.com/miykael/atlasreader"
   ]
  },
  {
   "cell_type": "code",
   "execution_count": 8,
   "id": "33c1a0d8-e577-4492-9b33-2d55d3582788",
   "metadata": {},
   "outputs": [],
   "source": [
    "# AON-baseline\n",
    "create_output(aon_thresholded_map, cluster_extent=aon_cluster_threshold, outdir=cluster_info_dir / \"aon-baseline\")"
   ]
  },
  {
   "cell_type": "code",
   "execution_count": 9,
   "id": "4236ebf4-2f6d-42d4-9df9-deff2e257893",
   "metadata": {},
   "outputs": [],
   "source": [
    "# Scrambled-baseline\n",
    "create_output(scrambled_thresholded_map, cluster_extent=scrambled_cluster_threshold, outdir=cluster_info_dir / \"scrambled-baseline\")"
   ]
  },
  {
   "cell_type": "code",
   "execution_count": 10,
   "id": "87895fd1-d667-4f76-b9ce-4343abe3da61",
   "metadata": {},
   "outputs": [],
   "source": [
    "# Ghost-baseline\n",
    "create_output(ghost_thresholded_map, cluster_extent=ghost_cluster_threshold, outdir=cluster_info_dir / \"ghost-baseline\")"
   ]
  },
  {
   "cell_type": "code",
   "execution_count": 11,
   "id": "9d98eec6-b1f1-41f5-9b96-24f870163f98",
   "metadata": {},
   "outputs": [],
   "source": [
    "# Transitive-intransitive\n",
    "create_output(transitive_intransitive_thresholded_map, cluster_extent=transitive_intransitive_cluster_threshold, outdir=cluster_info_dir / \"transitive_intransitive\")"
   ]
  },
  {
   "cell_type": "code",
   "execution_count": 12,
   "id": "15bc7f8a-1ee4-417d-bbff-332bd3031921",
   "metadata": {},
   "outputs": [],
   "source": [
    "# Human-dog\n",
    "create_output(human_dog_thresholded_map, cluster_extent=human_dog_cluster_threshold, outdir=cluster_info_dir / \"human-dog\")"
   ]
  },
  {
   "cell_type": "code",
   "execution_count": 13,
   "id": "e5203d30-5747-4511-ad6f-b9db1d0c31f1",
   "metadata": {},
   "outputs": [],
   "source": [
    "# Dog-human\n",
    "create_output(dog_human_thresholded_map, cluster_extent=dog_human_cluster_threshold, outdir=cluster_info_dir / \"dog_human\")"
   ]
  },
  {
   "cell_type": "code",
   "execution_count": 14,
   "id": "a56a78ff-bf69-406d-843e-5187c672ddd7",
   "metadata": {},
   "outputs": [],
   "source": [
    "# Action-baseline\n",
    "create_output(action_thresholded_map, cluster_extent=action_cluster_threshold, outdir=cluster_info_dir / \"action-baseline\")"
   ]
  }
 ],
 "metadata": {
  "kernelspec": {
   "display_name": "Python 3 (ipykernel)",
   "language": "python",
   "name": "python3"
  },
  "language_info": {
   "codemirror_mode": {
    "name": "ipython",
    "version": 3
   },
   "file_extension": ".py",
   "mimetype": "text/x-python",
   "name": "python",
   "nbconvert_exporter": "python",
   "pygments_lexer": "ipython3",
   "version": "3.8.10"
  }
 },
 "nbformat": 4,
 "nbformat_minor": 5
}
