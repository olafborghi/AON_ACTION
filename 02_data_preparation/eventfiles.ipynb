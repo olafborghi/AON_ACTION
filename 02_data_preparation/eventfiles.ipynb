{
 "cells": [
  {
   "cell_type": "markdown",
   "id": "9d036469-4570-4320-968b-81b381f13428",
   "metadata": {},
   "source": [
    "# Automatically sort logfiles into the respective BIDS folders and BIDSify them\n",
    "\n",
    "Master Thesis: **Modulation of the Action Observation Network - Investigating Action, Actor and Observer Factors in an fMRI Study**\n",
    "\n",
    "Author: Olaf Borghi olafborghi@gmail.com"
   ]
  },
  {
   "cell_type": "code",
   "execution_count": 1,
   "id": "6fcd9ab9-997e-40e8-97c1-81c9bcf82fd8",
   "metadata": {},
   "outputs": [],
   "source": [
    "# import modules\n",
    "from pathlib import Path\n",
    "import pandas as pd\n",
    "import numpy as np\n",
    "from nilearn import datasets\n",
    "from glob import glob\n",
    "from pprint import pprint\n",
    "import os"
   ]
  },
  {
   "cell_type": "code",
   "execution_count": 20,
   "id": "dc7cdb5b-ab5c-4bd9-94f3-1c02f08d702c",
   "metadata": {},
   "outputs": [],
   "source": [
    "logfiles = Path('mnt/o/AON2bids/01_data/logfiles')\n",
    "output = Path('/mnt/o/tmp')\n",
    "\n",
    "os.chdir('/mnt/o')"
   ]
  },
  {
   "cell_type": "markdown",
   "id": "81333fe3-6586-44a4-9f83-05d15b33046f",
   "metadata": {
    "tags": []
   },
   "source": [
    "### AONH Run 1"
   ]
  },
  {
   "cell_type": "code",
   "execution_count": 6,
   "id": "d0c8dbf5-48a9-4d62-9add-c4a99d60df94",
   "metadata": {},
   "outputs": [
    {
     "ename": "IndexError",
     "evalue": "list index out of range",
     "output_type": "error",
     "traceback": [
      "\u001b[0;31m---------------------------------------------------------------------------\u001b[0m",
      "\u001b[0;31mIndexError\u001b[0m                                Traceback (most recent call last)",
      "\u001b[0;32m/tmp/ipykernel_1727533/342279414.py\u001b[0m in \u001b[0;36m<module>\u001b[0;34m\u001b[0m\n\u001b[1;32m     14\u001b[0m \u001b[0;34m\u001b[0m\u001b[0m\n\u001b[1;32m     15\u001b[0m     \u001b[0;31m# read aon run 1 data frame\u001b[0m\u001b[0;34m\u001b[0m\u001b[0;34m\u001b[0m\u001b[0;34m\u001b[0m\u001b[0m\n\u001b[0;32m---> 16\u001b[0;31m     \u001b[0maon_run1\u001b[0m \u001b[0;34m=\u001b[0m \u001b[0mpd\u001b[0m\u001b[0;34m.\u001b[0m\u001b[0mread_csv\u001b[0m\u001b[0;34m(\u001b[0m\u001b[0mlogfile_aon_run1\u001b[0m\u001b[0;34m[\u001b[0m\u001b[0;36m0\u001b[0m\u001b[0;34m]\u001b[0m\u001b[0;34m)\u001b[0m\u001b[0;34m\u001b[0m\u001b[0;34m\u001b[0m\u001b[0m\n\u001b[0m\u001b[1;32m     17\u001b[0m \u001b[0;34m\u001b[0m\u001b[0m\n\u001b[1;32m     18\u001b[0m     \u001b[0;31m# rename the columns\u001b[0m\u001b[0;34m\u001b[0m\u001b[0;34m\u001b[0m\u001b[0;34m\u001b[0m\u001b[0m\n",
      "\u001b[0;31mIndexError\u001b[0m: list index out of range"
     ]
    }
   ],
   "source": [
    "# create subject list\n",
    "old_sbj_list = [f\"EV{i:02d}\" for i in range(1, 41)]\n",
    "new_sbj_list = [f\"sub-{i:02d}\" for i in range(1, 41)]\n",
    "\n",
    "for i, sbj in enumerate(old_sbj_list):\n",
    "    \n",
    "    # read AON run 1 logfiles of sub[i]\n",
    "    logfile_aon_run1 = glob(f\"/mnt/o/AON2bids/01_data/logfiles/{sbj}_AONH_run1*.csv\", recursive=True)\n",
    "    \n",
    "    # delete long run\n",
    "    for j, logfile in enumerate(logfile_aon_run1):\n",
    "        if \"long\" in logfile:\n",
    "            logfile_aon_run1.pop(j)\n",
    "            \n",
    "    # read aon run 1 data frame \n",
    "    aon_run1 = pd.read_csv(logfile_aon_run1[0])\n",
    "    \n",
    "    # rename the columns\n",
    "    aon_run1.rename(columns = {'block_on':'onset', 'block_off':'offset', 'block_duration':'duration'}, inplace = True)\n",
    "    \n",
    "    # add the participant_id instead of human_id\n",
    "    aon_run1.insert(0, 'participant_id', new_sbj_list[i])\n",
    "    aon_run1.drop('humanID', inplace=True, axis=1)\n",
    "    \n",
    "    # sort the columns to be in line with BIDS style\n",
    "    final_aon_run1 = aon_run1[['onset', 'duration', 'offset', 'condition', 'participant_id', 'date', 'session', 'attempt', 'run', 'dur_fixation', 'task_duration']]\n",
    "    \n",
    "    # add trial_type column\n",
    "    final_aon_run1.insert(4, 'trial_type', 999)\n",
    "    \n",
    "    for k, l in enumerate(final_aon_run1['trial_type']):\n",
    "        if aon_run1['condition'][k] == 1:\n",
    "            final_aon_run1['trial_type'][k] = \"Dog Goal-directed\"\n",
    "        elif aon_run1['condition'][k] == 2:\n",
    "            final_aon_run1['trial_type'][k] = \"Human Goal-directed\"\n",
    "        elif aon_run1['condition'][k] == 3:\n",
    "            final_aon_run1['trial_type'][k] = \"Dog Miming\"\n",
    "        elif aon_run1['condition'][k] == 4:\n",
    "            final_aon_run1['trial_type'][k] = \"Human Miming\"\n",
    "        elif aon_run1['condition'][k] == 5:\n",
    "            final_aon_run1['trial_type'][k] = \"Dog Ghost\"\n",
    "        elif aon_run1['condition'][k] == 6:\n",
    "            final_aon_run1['trial_type'][k] = \"Human Ghost\"\n",
    "        elif aon_run1['condition'][k] == 7:\n",
    "            final_aon_run1['trial_type'][k] = \"Dog Scrambled\"\n",
    "        elif aon_run1['condition'][k] == 8:\n",
    "            final_aon_run1['trial_type'][k] = \"Human Scrambled\"\n",
    "    \n",
    "    # store it in the right folder; name: sub-01_task-AON_run-01_events.tsv\n",
    "    final_aon_run1.to_csv(f\"/mnt/o/AON_ACTION_BIDS/{new_sbj_list[i]}/func/{new_sbj_list[i]}_task-AON_run-01_events.tsv\", sep ='\\t', index=False)\n",
    "      \n",
    "final_aon_run1.head()"
   ]
  },
  {
   "cell_type": "markdown",
   "id": "4be963af-ec92-4ce9-8725-e99ea7a2669b",
   "metadata": {},
   "source": [
    "### AONH Run 2"
   ]
  },
  {
   "cell_type": "code",
   "execution_count": 7,
   "id": "ad14b48d-63e3-4919-9a5a-f44bc1553806",
   "metadata": {},
   "outputs": [
    {
     "ename": "IndexError",
     "evalue": "list index out of range",
     "output_type": "error",
     "traceback": [
      "\u001b[0;31m---------------------------------------------------------------------------\u001b[0m",
      "\u001b[0;31mIndexError\u001b[0m                                Traceback (most recent call last)",
      "\u001b[0;32m/tmp/ipykernel_1727533/1110461671.py\u001b[0m in \u001b[0;36m<module>\u001b[0;34m\u001b[0m\n\u001b[1;32m     14\u001b[0m \u001b[0;34m\u001b[0m\u001b[0m\n\u001b[1;32m     15\u001b[0m     \u001b[0;31m# read aon run 1 data frame\u001b[0m\u001b[0;34m\u001b[0m\u001b[0;34m\u001b[0m\u001b[0;34m\u001b[0m\u001b[0m\n\u001b[0;32m---> 16\u001b[0;31m     \u001b[0maon_run2\u001b[0m \u001b[0;34m=\u001b[0m \u001b[0mpd\u001b[0m\u001b[0;34m.\u001b[0m\u001b[0mread_csv\u001b[0m\u001b[0;34m(\u001b[0m\u001b[0mlogfile_aon_run2\u001b[0m\u001b[0;34m[\u001b[0m\u001b[0;36m0\u001b[0m\u001b[0;34m]\u001b[0m\u001b[0;34m)\u001b[0m\u001b[0;34m\u001b[0m\u001b[0;34m\u001b[0m\u001b[0m\n\u001b[0m\u001b[1;32m     17\u001b[0m \u001b[0;34m\u001b[0m\u001b[0m\n\u001b[1;32m     18\u001b[0m     \u001b[0;31m# rename the columns\u001b[0m\u001b[0;34m\u001b[0m\u001b[0;34m\u001b[0m\u001b[0;34m\u001b[0m\u001b[0m\n",
      "\u001b[0;31mIndexError\u001b[0m: list index out of range"
     ]
    }
   ],
   "source": [
    "# create subject list\n",
    "old_sbj_list = [f\"EV{i:02d}\" for i in range(1, 41)]\n",
    "new_sbj_list = [f\"sub-{i:02d}\" for i in range(1, 41)]\n",
    "\n",
    "for i, sbj in enumerate(old_sbj_list):\n",
    "    \n",
    "    # read AON run 2 logfiles of sub[i]\n",
    "    logfile_aon_run2 = glob(f\"/mnt/o/AON2bids/01_data/logfiles/{sbj}_AONH_run2*.csv\", recursive=True)\n",
    "    \n",
    "    # delete long run\n",
    "    for j, logfile in enumerate(logfile_aon_run2):\n",
    "        if \"long\" in logfile:\n",
    "            logfile_aon_run2.pop(j)\n",
    "            \n",
    "    # read aon run 1 data frame \n",
    "    aon_run2 = pd.read_csv(logfile_aon_run2[0])\n",
    "    \n",
    "    # rename the columns\n",
    "    aon_run2.rename(columns = {'block_on':'onset', 'block_off':'offset', 'block_duration':'duration'}, inplace = True)\n",
    "    \n",
    "    # add the participant_id instead of human_id\n",
    "    aon_run2.insert(0, 'participant_id', new_sbj_list[i])\n",
    "    aon_run2.drop('humanID', inplace=True, axis=1)\n",
    "    \n",
    "    # sort the columns to be in line with BIDS style\n",
    "    final_aon_run2 = aon_run2[['onset', 'duration', 'offset', 'condition', 'participant_id', 'date', 'session', 'attempt', 'run', 'dur_fixation', 'task_duration']]\n",
    "    \n",
    "    # add trial_type column\n",
    "    final_aon_run2.insert(4, 'trial_type', 999)\n",
    "    \n",
    "    for k, l in enumerate(final_aon_run2['trial_type']):\n",
    "        if aon_run2['condition'][k] == 1:\n",
    "            final_aon_run2['trial_type'][k] = \"Dog Goal-directed\"\n",
    "        elif aon_run2['condition'][k] == 2:\n",
    "            final_aon_run2['trial_type'][k] = \"Human Goal-directed\"\n",
    "        elif aon_run2['condition'][k] == 3:\n",
    "            final_aon_run2['trial_type'][k] = \"Dog Miming\"\n",
    "        elif aon_run2['condition'][k] == 4:\n",
    "            final_aon_run2['trial_type'][k] = \"Human Miming\"\n",
    "        elif aon_run2['condition'][k] == 5:\n",
    "            final_aon_run2['trial_type'][k] = \"Dog Ghost\"\n",
    "        elif aon_run2['condition'][k] == 6:\n",
    "            final_aon_run2['trial_type'][k] = \"Human Ghost\"\n",
    "        elif aon_run2['condition'][k] == 7:\n",
    "            final_aon_run2['trial_type'][k] = \"Dog Scrambled\"\n",
    "        elif aon_run2['condition'][k] == 8:\n",
    "            final_aon_run2['trial_type'][k] = \"Human Scrambled\"\n",
    "    \n",
    "    # store it in the right folder; name: sub-01_task-AON_run-01_events.tsv\n",
    "    final_aon_run2.to_csv(f\"/mnt/o/AON_ACTION_BIDS/{new_sbj_list[i]}/func/{new_sbj_list[i]}_task-AON_run-02_events.tsv\", sep ='\\t', index=False)\n",
    "      \n",
    "final_aon_run2.head()"
   ]
  },
  {
   "cell_type": "markdown",
   "id": "56dbf570-121b-4cb6-bf6e-c9db7cdd8b50",
   "metadata": {},
   "source": [
    "### ACTION (only one run)"
   ]
  },
  {
   "cell_type": "code",
   "execution_count": 8,
   "id": "0c788e71-8700-4414-997b-f098426c9dd4",
   "metadata": {},
   "outputs": [
    {
     "ename": "IndexError",
     "evalue": "list index out of range",
     "output_type": "error",
     "traceback": [
      "\u001b[0;31m---------------------------------------------------------------------------\u001b[0m",
      "\u001b[0;31mIndexError\u001b[0m                                Traceback (most recent call last)",
      "\u001b[0;32m/tmp/ipykernel_1727533/2941388000.py\u001b[0m in \u001b[0;36m<module>\u001b[0;34m\u001b[0m\n\u001b[1;32m      9\u001b[0m \u001b[0;34m\u001b[0m\u001b[0m\n\u001b[1;32m     10\u001b[0m     \u001b[0;31m# read action data frame\u001b[0m\u001b[0;34m\u001b[0m\u001b[0;34m\u001b[0m\u001b[0;34m\u001b[0m\u001b[0m\n\u001b[0;32m---> 11\u001b[0;31m     \u001b[0maction\u001b[0m \u001b[0;34m=\u001b[0m \u001b[0mpd\u001b[0m\u001b[0;34m.\u001b[0m\u001b[0mread_csv\u001b[0m\u001b[0;34m(\u001b[0m\u001b[0mlogfile_action\u001b[0m\u001b[0;34m[\u001b[0m\u001b[0;36m0\u001b[0m\u001b[0;34m]\u001b[0m\u001b[0;34m)\u001b[0m\u001b[0;34m\u001b[0m\u001b[0;34m\u001b[0m\u001b[0m\n\u001b[0m\u001b[1;32m     12\u001b[0m \u001b[0;34m\u001b[0m\u001b[0m\n\u001b[1;32m     13\u001b[0m     \u001b[0;31m# rename the columns\u001b[0m\u001b[0;34m\u001b[0m\u001b[0;34m\u001b[0m\u001b[0;34m\u001b[0m\u001b[0m\n",
      "\u001b[0;31mIndexError\u001b[0m: list index out of range"
     ]
    }
   ],
   "source": [
    "# create subject list\n",
    "old_sbj_list = [f\"EV{i:02d}\" for i in range(1, 41)]\n",
    "new_sbj_list = [f\"sub-{i:02d}\" for i in range(1, 41)]\n",
    "\n",
    "for i, sbj in enumerate(old_sbj_list):\n",
    "    \n",
    "    # read action logfiles of sub[i]\n",
    "    logfile_action = glob(f\"/mnt/o/AON2bids/01_data/logfiles/{sbj}_ACTION_*.csv\", recursive=True)\n",
    "    \n",
    "    # read action data frame \n",
    "    action = pd.read_csv(logfile_action[0])\n",
    "    \n",
    "    # rename the columns\n",
    "    action.rename(columns = {'block_on':'onset', 'block_off':'offset', 'block_duration':'duration'}, inplace = True)\n",
    "    \n",
    "    # add the participant_id instead of human_id\n",
    "    action.insert(0, 'participant_id', new_sbj_list[i])\n",
    "    action.drop('humanID', inplace=True, axis=1)\n",
    "    \n",
    "    \n",
    "    # sort the columns to be in line with BIDS style\n",
    "    final_action = action[['onset', 'duration', 'offset', 'condition', 'participant_id', 'date', 'session', 'attempt', 'dur_fixation', 'task_duration', 'pic_name']]\n",
    "    \n",
    "    # add trial_type column\n",
    "    final_action.insert(4, 'trial_type', 999)\n",
    "    \n",
    "    for k, l in enumerate(final_action['trial_type']):\n",
    "        if action['condition'][k] == 1:\n",
    "            final_action['trial_type'][k] = \"Hand motion\"\n",
    "        elif action['condition'][k] == 2:\n",
    "            final_action['trial_type'][k] = \"Mouth motion\"\n",
    "\n",
    "    \n",
    "    # store it in the right folder; name: sub-01_task-AON_run-01_events.tsv\n",
    "    final_action.to_csv(f\"/mnt/o/AON_ACTION_BIDS/{new_sbj_list[i]}/func/{new_sbj_list[i]}_task-action_events.tsv\", sep ='\\t', index=False)\n",
    "      \n",
    "final_action.head()"
   ]
  }
 ],
 "metadata": {
  "kernelspec": {
   "display_name": "Python 3 (ipykernel)",
   "language": "python",
   "name": "python3"
  },
  "language_info": {
   "codemirror_mode": {
    "name": "ipython",
    "version": 3
   },
   "file_extension": ".py",
   "mimetype": "text/x-python",
   "name": "python",
   "nbconvert_exporter": "python",
   "pygments_lexer": "ipython3",
   "version": "3.8.10"
  }
 },
 "nbformat": 4,
 "nbformat_minor": 5
}
